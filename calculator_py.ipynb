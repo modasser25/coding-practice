{
  "cells": [
    {
      "cell_type": "markdown",
      "metadata": {
        "colab_type": "text",
        "id": "view-in-github"
      },
      "source": [
        "<a href=\"https://colab.research.google.com/github/modasser25/coding-practice/blob/main/calculator_py.ipynb\" target=\"_parent\"><img src=\"https://colab.research.google.com/assets/colab-badge.svg\" alt=\"Open In Colab\"/></a>"
      ]
    },
    {
      "cell_type": "code",
      "execution_count": 1,
      "metadata": {
        "id": "OLdAy2aS06wH"
      },
      "outputs": [],
      "source": [
        "# calculator.py\n",
        "import math\n",
        "history = []"
      ]
    },
    {
      "cell_type": "code",
      "execution_count": 2,
      "metadata": {
        "id": "6EfgIzQkINVX"
      },
      "outputs": [],
      "source": [
        "def historyList(count=3):\n",
        "  if len(history) < count:\n",
        "    count = len(history)\n",
        "  last_elements = history[-count:]\n",
        "  print(f\"Last {count} Operation(s):\")\n",
        "  for item in last_elements:\n",
        "    print(item)\n",
        "  return TRUE"
      ]
    },
    {
      "cell_type": "code",
      "execution_count": 3,
      "metadata": {
        "id": "u3rkNXQA1jxi"
      },
      "outputs": [],
      "source": [
        "def calculate(op, a, b=None):\n",
        "  \"\"\"This function takes the parameters and then does operation on a and/or b based on the operator\"\"\"\n",
        "  try:\n",
        "    if isinstance(a, (int, float)):\n",
        "      if b is not None and isinstance(b, (int, float)):\n",
        "        if op == '+':  return a + b\n",
        "        if op == '-':  return a - b\n",
        "        if op == '*':  return a * b\n",
        "        if op == '**': return a ** b\n",
        "        if op == '/':\n",
        "          if b == 0:\n",
        "            raise ZeroDivisionError(\"division by zero\")\n",
        "          return a / b\n",
        "        if op == '%':\n",
        "          if b == 0:\n",
        "            raise ZeroDivisionError(\"division by zero\")\n",
        "          return a % b\n",
        "      elif b is None:\n",
        "        if op == 'sqrt':\n",
        "          if a < 0:\n",
        "            raise ValueError(\"cannot take square root of a negative number\")\n",
        "          return math.sqrt(a)\n",
        "        if op == 'facto':\n",
        "          if a < 0:\n",
        "            raise ValueError(\"factorial only defined for non-negative integers\")\n",
        "          return math.factorial(int(a))\n",
        "        if op == 'abs': return abs(a)\n",
        "        if op == 'neg': return -a\n",
        "      raise ValueError(\"Unknown operation or invalid number of arguments.\")\n",
        "    else:\n",
        "      raise ValueError(\"Invalid input types.\")\n",
        "  except ZeroDivisionError:\n",
        "    return \"Error: division by zero\"\n",
        "  except ValueError as e:\n",
        "    return f\"Error: {e}\"\n",
        "  except Exception as e:\n",
        "    return f\"An unexpected error occurred: {e}\""
      ]
    },
    {
      "cell_type": "code",
      "execution_count": null,
      "metadata": {
        "id": "XxAyK-451mWP"
      },
      "outputs": [],
      "source": [
        "def parse(tokens):\n",
        "    # Parse the input\n",
        "    # binary:  <a> <op> <b>\n",
        "    # unary:   <op> <a>\n",
        "\n",
        "    try:\n",
        "        if len(tokens) == 3:       # binary\n",
        "            a, op, b = tokens\n",
        "            return op, float(a), float(b)\n",
        "        elif len(tokens) == 2:     # unary\n",
        "            op, a = tokens\n",
        "            return op, float(a), None\n",
        "        else:\n",
        "            raise ValueError(\"❌ Invalid format. Use: a op b  OR  op a\")\n",
        "    except ValueError:\n",
        "        raise ValueError(f\"❌ Invalid number in input: {' '.join(tokens)}\")"
      ]
    },
    {
      "cell_type": "code",
      "execution_count": 5,
      "metadata": {
        "id": "IzXqq9Z-1umE"
      },
      "outputs": [],
      "source": [
        "def calc():\n",
        "  \"\"\"# calc function takes infinitely until break, send the input to parse, and then call the calculate function \"\"\"\n",
        "  memory = 0.0\n",
        "  print(\"Calc: enter `a op b` (e.g. 3 * 4) or `op a` (e.g. sqrt 9) List a (last a operations). Type q to quit.\")\n",
        "  print(\"Extras: ** (power), sqrt, facto, abs, neg. Memory: M+, M-, MR, MC; \")\n",
        "  while True:\n",
        "      line = input(\"> \").strip()\n",
        "      if line.lower() in {\"q\", \"quit\", \"exit\"}:\n",
        "          break\n",
        "\n",
        "      if line.upper() == \"MR\":\n",
        "          print(memory); continue\n",
        "      if line.upper().startswith(\"M+\"):\n",
        "          try:\n",
        "              val = float(line.split()[1])\n",
        "              memory += val; print(f\"Memory = {memory}\")\n",
        "          except Exception:\n",
        "              print(\"Use: M+ <number>\")\n",
        "          continue\n",
        "      if line.upper().startswith(\"M-\"):\n",
        "          try:\n",
        "              val = float(line.split()[1])\n",
        "              memory -= val; print(f\"Memory = {memory}\")\n",
        "          except Exception:\n",
        "              print(\"Use: M- <number>\")\n",
        "          continue\n",
        "      if line.upper() == \"MC\":\n",
        "          memory = 0.0; print(\"Memory cleared.\"); continue\n",
        "\n",
        "      try:\n",
        "          tokens = line.split()\n",
        "          op, a, b = parse(tokens)\n",
        "\n",
        "          if op.upper() == \"LIST\":\n",
        "            historyList(int(a))\n",
        "            continue\n",
        "          result = calculate(op, a, b)\n",
        "          if result is not None:\n",
        "            if b is not None:\n",
        "              history.append(f\"{a} {op} {b} = {result}\")\n",
        "            else:\n",
        "              history.append(f\"{op} {a} = {result}\")\n",
        "          print(result)\n",
        "      except Exception as e:\n",
        "          print(\"Error:\", e)"
      ]
    },
    {
      "cell_type": "code",
      "execution_count": null,
      "metadata": {
        "collapsed": true,
        "id": "1uiHADVl12n9"
      },
      "outputs": [],
      "source": [
        "if __name__ == \"__main__\":\n",
        "  calc()"
      ]
    }
  ],
  "metadata": {
    "colab": {
      "authorship_tag": "ABX9TyNaYNK8xJNhm2hCxAsxpnys",
      "include_colab_link": true,
      "provenance": []
    },
    "kernelspec": {
      "display_name": "Python 3",
      "name": "python3"
    },
    "language_info": {
      "name": "python"
    }
  },
  "nbformat": 4,
  "nbformat_minor": 0
}
